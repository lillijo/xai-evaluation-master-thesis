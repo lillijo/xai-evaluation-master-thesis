{
 "cells": [
  {
   "cell_type": "code",
   "execution_count": null,
   "metadata": {},
   "outputs": [],
   "source": [
    "import matplotlib\n",
    "from matplotlib import pyplot as plt\n",
    "import numpy as np\n",
    "import torch\n",
    "import math\n",
    "import networkx as nx\n",
    "from tqdm import tqdm\n",
    "from PIL import Image\n",
    "import json\n",
    "import copy\n",
    "from torch.utils.data import DataLoader, random_split\n",
    "\n",
    "from expbasics.helper import get_attributions, get_model_etc, to_name\n",
    "from expbasics.network import load_model, train_network, accuracy_per_class\n",
    "from expbasics.biased_noisy_dataset import get_biased_loader, BiasedNoisyDataset\n",
    "\n",
    "%reload_ext autoreload\n",
    "%autoreload 2"
   ]
  },
  {
   "cell_type": "code",
   "execution_count": null,
   "metadata": {},
   "outputs": [],
   "source": [
    "BIASES = list(np.round(np.linspace(0, 1, 51), 3))\n",
    "#BIASES = list(np.round(np.linspace(0, 1, 21), 3))\n",
    "SEEDS = [9, 5, 15, 14, 6, 1]\n",
    "\n",
    "NAME = \"../clustermodels/test\"\n",
    "rand_gen = torch.Generator().manual_seed(431)\n",
    "\n",
    "BATCH_SIZE = 8\n",
    "LEARNING_RATE = 0.001\n",
    "EPOCHS = 5\n",
    "STRENGTH = 0.5\n",
    "IMAGE_PATH = \"../dsprites-dataset/images\"\n",
    "accs = []\n",
    "for bias in BIASES:\n",
    "    for seed in SEEDS:\n",
    "        ds = BiasedNoisyDataset(bias, STRENGTH, img_path=IMAGE_PATH)\n",
    "        trainds, testds, _ = random_split(ds, [0.01, 0.005, 0.985], generator=rand_gen)\n",
    "        train_loader = DataLoader(trainds, batch_size=BATCH_SIZE, shuffle=True, generator=rand_gen)\n",
    "        test_loader = DataLoader(testds, batch_size=BATCH_SIZE, shuffle=True, generator=rand_gen)\n",
    "        name = to_name(bias, seed)\n",
    "        model = train_network(\n",
    "            train_loader,\n",
    "            bias,\n",
    "            STRENGTH,\n",
    "            NAME,\n",
    "            BATCH_SIZE,\n",
    "            load=False,\n",
    "            retrain=False,\n",
    "            learning_rate=LEARNING_RATE,\n",
    "            epochs=EPOCHS,\n",
    "            num_it=seed,\n",
    "            seeded=True,\n",
    "            disable=True\n",
    "        )\n",
    "        acc = list(accuracy_per_class(model, test_loader))\n",
    "        print(acc)\n",
    "        accs.append([bias, seed, acc])"
   ]
  }
 ],
 "metadata": {
  "language_info": {
   "name": "python"
  }
 },
 "nbformat": 4,
 "nbformat_minor": 2
}

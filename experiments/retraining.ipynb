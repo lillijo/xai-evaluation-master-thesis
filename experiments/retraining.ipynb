{
 "cells": [
  {
   "cell_type": "code",
   "execution_count": 9,
   "metadata": {},
   "outputs": [],
   "source": [
    "import matplotlib\n",
    "from matplotlib import pyplot as plt\n",
    "import numpy as np\n",
    "import torch\n",
    "import math\n",
    "import networkx as nx\n",
    "from tqdm import tqdm\n",
    "from PIL import Image\n",
    "import json\n",
    "import copy\n",
    "from torch.utils.data import DataLoader, random_split\n",
    "\n",
    "from expbasics.helper import get_attributions, get_model_etc, to_name\n",
    "from expbasics.network import load_model, train_network, accuracy_per_class\n",
    "from expbasics.biased_noisy_dataset import get_biased_loader, BiasedNoisyDataset\n",
    "\n",
    "%reload_ext autoreload\n",
    "%autoreload 2"
   ]
  },
  {
   "cell_type": "code",
   "execution_count": 14,
   "metadata": {},
   "outputs": [
    {
     "name": "stdout",
     "output_type": "stream",
     "text": [
      "cpu\n",
      "test_0_14.pickle\n",
      "EPOCH 1:\n"
     ]
    },
    {
     "name": "stderr",
     "output_type": "stream",
     "text": [
      "385it [00:32, 11.82it/s, acc=80.2, batch=300, epoch=1, loss=0.43]\n"
     ]
    },
    {
     "name": "stdout",
     "output_type": "stream",
     "text": [
      "loss epoch: 0.43479172259569165\n",
      "EPOCH 2:\n"
     ]
    },
    {
     "name": "stderr",
     "output_type": "stream",
     "text": [
      "385it [00:35, 10.97it/s, acc=99, batch=300, epoch=2, loss=0.03]  \n"
     ]
    },
    {
     "name": "stdout",
     "output_type": "stream",
     "text": [
      "loss epoch: 0.03294716692529619\n",
      "best loss:  0.03294716692529619  last loss:  0.03294716692529619  best epoch:  model_1_0\n",
      "cpu\n",
      "test_0_6.pickle\n",
      "EPOCH 1:\n"
     ]
    },
    {
     "name": "stderr",
     "output_type": "stream",
     "text": [
      "385it [00:40,  9.48it/s, acc=60.8, batch=300, epoch=1, loss=0.65]\n"
     ]
    },
    {
     "name": "stdout",
     "output_type": "stream",
     "text": [
      "loss epoch: 0.6464976686239242\n",
      "EPOCH 2:\n"
     ]
    },
    {
     "name": "stderr",
     "output_type": "stream",
     "text": [
      "385it [00:35, 10.78it/s, acc=95.7, batch=300, epoch=2, loss=0.14]\n"
     ]
    },
    {
     "name": "stdout",
     "output_type": "stream",
     "text": [
      "loss epoch: 0.13719020642340182\n",
      "best loss:  0.13719020642340182  last loss:  0.13719020642340182  best epoch:  model_1_0\n",
      "cpu\n",
      "test_0_1.pickle\n",
      "EPOCH 1:\n"
     ]
    },
    {
     "name": "stderr",
     "output_type": "stream",
     "text": [
      "385it [00:40,  9.42it/s, acc=80.6, batch=300, epoch=1, loss=0.45]\n"
     ]
    },
    {
     "name": "stdout",
     "output_type": "stream",
     "text": [
      "loss epoch: 0.4489641472697258\n",
      "EPOCH 2:\n"
     ]
    },
    {
     "name": "stderr",
     "output_type": "stream",
     "text": [
      "385it [00:36, 10.63it/s, acc=98.4, batch=300, epoch=2, loss=0.05]\n"
     ]
    },
    {
     "name": "stdout",
     "output_type": "stream",
     "text": [
      "loss epoch: 0.05370247093960643\n",
      "best loss:  0.05370247093960643  last loss:  0.05370247093960643  best epoch:  model_1_0\n",
      "cpu\n",
      "test_0_9.pickle\n",
      "EPOCH 1:\n"
     ]
    },
    {
     "name": "stderr",
     "output_type": "stream",
     "text": [
      "385it [00:37, 10.16it/s, acc=60.5, batch=300, epoch=1, loss=0.63]\n"
     ]
    },
    {
     "name": "stdout",
     "output_type": "stream",
     "text": [
      "loss epoch: 0.6293422693014145\n",
      "EPOCH 2:\n"
     ]
    },
    {
     "name": "stderr",
     "output_type": "stream",
     "text": [
      "385it [00:35, 10.96it/s, acc=74.6, batch=300, epoch=2, loss=0.48]\n"
     ]
    },
    {
     "name": "stdout",
     "output_type": "stream",
     "text": [
      "loss epoch: 0.48405942648649214\n",
      "best loss:  0.48405942648649214  last loss:  0.48405942648649214  best epoch:  model_1_0\n",
      "cpu\n",
      "test_0_5.pickle\n",
      "EPOCH 1:\n"
     ]
    },
    {
     "name": "stderr",
     "output_type": "stream",
     "text": [
      "385it [00:39,  9.85it/s, acc=84.3, batch=300, epoch=1, loss=0.38]\n"
     ]
    },
    {
     "name": "stdout",
     "output_type": "stream",
     "text": [
      "loss epoch: 0.3831083744764328\n",
      "EPOCH 2:\n"
     ]
    },
    {
     "name": "stderr",
     "output_type": "stream",
     "text": [
      "385it [00:35, 10.88it/s, acc=98.6, batch=300, epoch=2, loss=0.05]\n"
     ]
    },
    {
     "name": "stdout",
     "output_type": "stream",
     "text": [
      "loss epoch: 0.04533252191729844\n",
      "best loss:  0.04533252191729844  last loss:  0.04533252191729844  best epoch:  model_1_0\n",
      "cpu\n",
      "test_0_15.pickle\n",
      "EPOCH 1:\n"
     ]
    },
    {
     "name": "stderr",
     "output_type": "stream",
     "text": [
      "385it [00:38,  9.98it/s, acc=59.7, batch=300, epoch=1, loss=0.65]\n"
     ]
    },
    {
     "name": "stdout",
     "output_type": "stream",
     "text": [
      "loss epoch: 0.6501215332746506\n",
      "EPOCH 2:\n"
     ]
    },
    {
     "name": "stderr",
     "output_type": "stream",
     "text": [
      "385it [00:34, 11.07it/s, acc=62.9, batch=300, epoch=2, loss=0.58]"
     ]
    },
    {
     "name": "stdout",
     "output_type": "stream",
     "text": [
      "loss epoch: 0.5838315981626511\n",
      "best loss:  0.5838315981626511  last loss:  0.5838315981626511  best epoch:  model_1_0\n"
     ]
    },
    {
     "name": "stderr",
     "output_type": "stream",
     "text": [
      "\n"
     ]
    }
   ],
   "source": [
    "BIASES = [0]\n",
    "# BIASES = list(np.round(np.linspace(0, 1, 21), 3))\n",
    "SEEDS = [14, 6, 1, 9, 5, 15, ]\n",
    "\n",
    "NAME = \"test\"\n",
    "rand_gen = torch.Generator().manual_seed(431)\n",
    "\n",
    "BATCH_SIZE = 128\n",
    "LEARNING_RATE = 0.001\n",
    "EPOCHS = 2\n",
    "STRENGTH = 0.5\n",
    "IMAGE_PATH = \"../dsprites-dataset/images\"\n",
    "accs = []\n",
    "for bias in BIASES:\n",
    "    for seed in SEEDS:\n",
    "        ds = BiasedNoisyDataset(bias, STRENGTH, img_path=IMAGE_PATH)\n",
    "        trainds, testds, _ = random_split(ds, [0.1, 0.01, 0.89], generator=rand_gen)\n",
    "        train_loader = DataLoader(\n",
    "            trainds, batch_size=BATCH_SIZE, shuffle=True, generator=rand_gen\n",
    "        )\n",
    "        test_loader = DataLoader(\n",
    "            testds, batch_size=BATCH_SIZE, shuffle=True, generator=rand_gen\n",
    "        )\n",
    "        name = to_name(bias, seed)\n",
    "        model = train_network(\n",
    "            train_loader,\n",
    "            bias,\n",
    "            STRENGTH,\n",
    "            NAME,\n",
    "            BATCH_SIZE,\n",
    "            load=False,\n",
    "            retrain=False,\n",
    "            learning_rate=LEARNING_RATE,\n",
    "            epochs=EPOCHS,\n",
    "            num_it=seed,\n",
    "            seeded=True,\n",
    "            disable=False,\n",
    "        )"
   ]
  },
  {
   "cell_type": "code",
   "execution_count": 5,
   "metadata": {},
   "outputs": [
    {
     "data": {
      "text/plain": [
       "0.89"
      ]
     },
     "execution_count": 5,
     "metadata": {},
     "output_type": "execute_result"
    }
   ],
   "source": [
    "1 -(0.1+ 0.01)"
   ]
  },
  {
   "cell_type": "code",
   "execution_count": null,
   "metadata": {},
   "outputs": [],
   "source": []
  }
 ],
 "metadata": {
  "kernelspec": {
   "display_name": "mt",
   "language": "python",
   "name": "python3"
  },
  "language_info": {
   "codemirror_mode": {
    "name": "ipython",
    "version": 3
   },
   "file_extension": ".py",
   "mimetype": "text/x-python",
   "name": "python",
   "nbconvert_exporter": "python",
   "pygments_lexer": "ipython3",
   "version": "3.10.11"
  }
 },
 "nbformat": 4,
 "nbformat_minor": 2
}

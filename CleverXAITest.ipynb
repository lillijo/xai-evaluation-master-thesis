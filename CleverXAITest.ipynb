{
 "cells": [
  {
   "cell_type": "code",
   "execution_count": 1,
   "id": "122597b3",
   "metadata": {},
   "outputs": [],
   "source": [
    "from __future__ import absolute_import\n",
    "from __future__ import division\n",
    "from __future__ import print_function\n",
    "\n",
    "from matplotlib import pyplot as plt\n",
    "import csv\n",
    "import os\n",
    "import numpy as np\n",
    "import pandas as pd\n",
    "import pickle\n",
    "import math\n",
    "from tqdm import tqdm \n",
    "import collections\n",
    "import statsmodels\n",
    "\n",
    "import seaborn as sns\n",
    "import torch.nn as nn\n",
    "import torch\n",
    "from torchvision.io import read_image\n",
    "from torch.utils.data import Dataset, DataLoader\n",
    "from torchvision import transforms, utils\n",
    "import torchvision\n",
    "from torchvision.io import read_image\n",
    "from torch.optim import SGD, Adam\n",
    "from torch.autograd import Variable\n",
    "\n",
    "from crp.image import imgify, vis_opaque_img, plot_grid\n",
    "from zennit.canonizers import SequentialMergeBatchNorm\n",
    "from zennit.composites import EpsilonPlusFlat\n",
    "from crp.concepts import ChannelConcept\n",
    "from crp.helper import get_layer_names\n",
    "from crp.attribution import CondAttribution\n",
    "from crp.visualization import FeatureVisualization\n",
    "\n",
    "import tigramite\n",
    "from tigramite import data_processing as pp\n",
    "from tigramite.toymodels import structural_causal_processes\n",
    "from tigramite import plotting as tp\n",
    "from tigramite.pcmci import PCMCI\n",
    "from tigramite.independence_tests.parcorr import ParCorr\n",
    "from tigramite.independence_tests.gpdc import GPDC\n",
    "from tigramite.independence_tests.cmiknn import CMIknn\n",
    "from tigramite.causal_effects import CausalEffects\n",
    "from tigramite.lpcmci import LPCMCI\n",
    "from tigramite.independence_tests.robust_parcorr import RobustParCorr\n",
    "from tigramite.independence_tests.gsquared import Gsquared\n",
    "from tigramite.independence_tests.cmisymb import CMIsymb\n",
    "from tigramite.independence_tests.regressionCI import RegressionCI\n",
    "\n",
    "\n",
    "%matplotlib inline"
   ]
  },
  {
   "cell_type": "code",
   "execution_count": 2,
   "id": "7092134d",
   "metadata": {},
   "outputs": [
    {
     "name": "stdout",
     "output_type": "stream",
     "text": [
      "[[False False False ... False False False]\n",
      " [False False False ... False False False]\n",
      " [False False False ... False False False]\n",
      " ...\n",
      " [False False False ... False False False]\n",
      " [False False False ... False False False]\n",
      " [False False False ... False False False]]\n"
     ]
    }
   ],
   "source": [
    "index = 0\n",
    "q_dir = \"clevr-xai/ground_truth_simple_questions_single_object\"\n",
    "q_path = os.path.join(q_dir, f'{index}.npy')\n",
    "question = np.load(q_path)\n",
    "print(question)"
   ]
  },
  {
   "cell_type": "code",
   "execution_count": null,
   "id": "72006a4b",
   "metadata": {},
   "outputs": [],
   "source": []
  }
 ],
 "metadata": {
  "kernelspec": {
   "display_name": "Python 3 (ipykernel)",
   "language": "python",
   "name": "python3"
  },
  "language_info": {
   "codemirror_mode": {
    "name": "ipython",
    "version": 3
   },
   "file_extension": ".py",
   "mimetype": "text/x-python",
   "name": "python",
   "nbconvert_exporter": "python",
   "pygments_lexer": "ipython3",
   "version": "3.10.11"
  }
 },
 "nbformat": 4,
 "nbformat_minor": 5
}
